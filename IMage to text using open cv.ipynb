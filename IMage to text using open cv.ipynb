{
 "cells": [
  {
   "cell_type": "code",
   "execution_count": 1,
   "metadata": {},
   "outputs": [],
   "source": [
    "import cv2\n",
    "import os\n",
    "from PIL import Image\n",
    "import pytesseract as pt\n"
   ]
  },
  {
   "cell_type": "code",
   "execution_count": 2,
   "metadata": {},
   "outputs": [],
   "source": [
    "pt.pytesseract.tesseract_cmd=r'C:\\\\Program Files\\\\Tesseract-OCR\\\\tesseract.exe'"
   ]
  },
  {
   "cell_type": "code",
   "execution_count": 3,
   "metadata": {},
   "outputs": [],
   "source": [
    "image_file = 'C:\\\\Users\\\\Pratyush Anand\\\\Downloads\\\\data_new\\\\1.jpg'\n",
    "img = cv2.imread(image_file)"
   ]
  },
  {
   "cell_type": "code",
   "execution_count": 4,
   "metadata": {},
   "outputs": [],
   "source": [
    "def display(im_path):\n",
    "    img = cv2.imread(im_path)\n",
    "    cv2.imshow(\"original\",img)\n",
    "    cv2.waitKey(0)\n",
    "    cv2.destroyAllWindows()"
   ]
  },
  {
   "cell_type": "code",
   "execution_count": 5,
   "metadata": {},
   "outputs": [],
   "source": [
    "# display(image_file)"
   ]
  },
  {
   "cell_type": "code",
   "execution_count": 6,
   "metadata": {},
   "outputs": [],
   "source": [
    "def gray_scale(image):\n",
    "    return cv2.cvtColor(image,cv2.COLOR_BGR2GRAY)\n",
    "\n",
    "gray_image = gray_scale(img)\n",
    "# cv2.imwrite('gray.jpg',gray_image)"
   ]
  },
  {
   "cell_type": "code",
   "execution_count": 7,
   "metadata": {},
   "outputs": [],
   "source": [
    "# display(\"gray.jpg\")"
   ]
  },
  {
   "cell_type": "code",
   "execution_count": 8,
   "metadata": {},
   "outputs": [],
   "source": [
    "thresh,im_bw = cv2.threshold(gray_image,225,235,cv2.THRESH_BINARY)\n",
    "# cv2.imwrite('bw_image.jpg',im_bw)"
   ]
  },
  {
   "cell_type": "code",
   "execution_count": 9,
   "metadata": {},
   "outputs": [],
   "source": [
    "# display(\"bw_image.jpg\")"
   ]
  },
  {
   "cell_type": "code",
   "execution_count": 10,
   "metadata": {},
   "outputs": [],
   "source": [
    "def noise_removal(image):\n",
    "    import numpy as np\n",
    "    kernel = np.ones((1, 1), np.uint8)\n",
    "    image = cv2.dilate(image, kernel, iterations=1)\n",
    "    kernel = np.ones((1, 1), np.uint8)\n",
    "    image = cv2.erode(image, kernel, iterations=1)\n",
    "    image = cv2.morphologyEx(image, cv2.MORPH_CLOSE, kernel)\n",
    "    image = cv2.medianBlur(image, 3)\n",
    "    return (image)"
   ]
  },
  {
   "cell_type": "code",
   "execution_count": 11,
   "metadata": {},
   "outputs": [],
   "source": [
    "no_noise = noise_removal(img)\n",
    "# cv2.imwrite(\"no_noise.jpg\", no_noise)"
   ]
  },
  {
   "cell_type": "code",
   "execution_count": 12,
   "metadata": {},
   "outputs": [],
   "source": [
    "# display('no_noise.jpg')"
   ]
  },
  {
   "cell_type": "code",
   "execution_count": 13,
   "metadata": {},
   "outputs": [
    {
     "name": "stdout",
     "output_type": "stream",
     "text": [
      "Satistied conveying an dependent contented he gentleman agreeable do be. Warrant\n",
      "Private blushes removed an in equally totally if. Delivered dejection necessary\n",
      "objection do mr prevailed. Mr feeling do chiefly cordial in do. Water timed folly\n",
      "right aware if oh truth, Imprudence attachment him his for sympathize. Large above\n",
      "be to means, Dashwood do provided stronger is. But discretion frequently sir the\n",
      "she instrument unattected admiration everything,\n",
      "\n",
      "Her extensive perceived may any sincerity extremity. Indeed add rather may pretty\n",
      "see, Old propriety delighted explained pe ved otherwise objection saw ten her.\n",
      "Qoubt merit sir the right these alone keeps, By sometimes intention smallness he\n",
      "northward. Consisted we otherwise arranging commanded discovery it explained.\n",
      "Qoes cold even song like two yet been, Literature interested announcing for\n",
      "terminated him inquietude day shy. Himself he fertile chicken perhaps waiting if\n",
      "highest no it, Continued promotion has consulted fat improving not way.\n",
      "\n",
      "Far quitting dwelling graceful the likewise received building. An fact so to that\n",
      "show am shed sold cold. Unaffected remarkably get yet introduced excellence\n",
      "terminated led. Result either design sai she esteem and. On ashamed no inhabit\n",
      "ferrars it ye besides resolve. Own judgment directly few trifling. Elderly as\n",
      "pursuit at regular do parlors. Rank what has into fond she,\n",
      "\n",
      "Of friendship on inhabiting diminution discovered as, Did friendly eat breeding\n",
      "building few nor. Gbject he barton no effect played valley afford, Period so to\n",
      "oppose we little seeing or branch. Announcing contrasted not imprudence add\n",
      "frequently you possession mrs. Period saw his houses square and misery. Hour had\n",
      "held lain give yet,\n",
      "\n"
     ]
    }
   ],
   "source": [
    "image = Image.open('no_noise.jpg')\n",
    "text = pt.image_to_string(image)\n",
    "\n",
    "print(text)"
   ]
  },
  {
   "cell_type": "code",
   "execution_count": null,
   "metadata": {},
   "outputs": [],
   "source": []
  }
 ],
 "metadata": {
  "kernelspec": {
   "display_name": "Python 3",
   "language": "python",
   "name": "python3"
  },
  "language_info": {
   "codemirror_mode": {
    "name": "ipython",
    "version": 3
   },
   "file_extension": ".py",
   "mimetype": "text/x-python",
   "name": "python",
   "nbconvert_exporter": "python",
   "pygments_lexer": "ipython3",
   "version": "3.8.5"
  }
 },
 "nbformat": 4,
 "nbformat_minor": 4
}
